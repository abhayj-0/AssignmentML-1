{
 "cells": [
  {
   "cell_type": "code",
   "execution_count": 1,
   "metadata": {
    "collapsed": true
   },
   "outputs": [
    {
     "name": "stdout",
     "output_type": "stream",
     "text": [
      "      name  Age   mail_id         pno\n1    Tommy   20    tommy@   712457896\n2    jacky   40    jacky@  1234567812\n3   kshnfj   90   kshnfj@  1479632587\n4  Hulalaa   10  Hulalaa@  1256784934\n"
     ]
    }
   ],
   "source": [
    "import pandas as pd\n",
    "#ques 1:\n",
    "d = {'name':['Tommy','jacky','kshnfj','Hulalaa'],\n",
    "      'Age':[20,40,90,10],\n",
    "     'mail_id':['tommy@','jacky@','kshnfj@','Hulalaa@'],\n",
    "     'pno':['712457896','1234567812','1479632587','1256784934']}\n",
    "dd = pd.DataFrame(d,index=['1','2','3','4'])\n",
    "print(dd)\n"
   ]
  },
  {
   "cell_type": "code",
   "execution_count": null,
   "metadata": {},
   "outputs": [
    {
     "name": "stdout",
     "output_type": "stream",
     "text": [
      "   -----------------------------a part\n\n        Date  Location  MinTemp  MaxTemp  Rainfall  Evaporation  Sunshine  \\\n0  11/1/2007  Canberra      8.0     24.3       0.0          3.4       6.3   \n1  11/2/2007  Canberra     14.0     26.9       3.6          4.4       9.7   \n2  11/3/2007  Canberra     13.7     23.4       3.6          5.8       3.3   \n3  11/4/2007  Canberra     13.3     15.5      39.8          7.2       9.1   \n4  11/5/2007  Canberra      7.6     16.1       2.8          5.6      10.6   \n\n  WindGustDir  WindGustSpeed WindDir9am      ...      Humidity3pm  \\\n0          NW           30.0         SW      ...               29   \n1         ENE           39.0          E      ...               36   \n2          NW           85.0          N      ...               69   \n3          NW           54.0        WNW      ...               56   \n4         SSE           50.0        SSE      ...               49   \n\n   Pressure9am  Pressure3pm  Cloud9am  Cloud3pm  Temp9am  Temp3pm  RainToday  \\\n0       1019.7       1015.0         7         7     14.4     23.6         No   \n1       1012.4       1008.4         5         3     17.5     25.7        Yes   \n2       1009.5       1007.2         8         7     15.4     20.2        Yes   \n3       1005.5       1007.0         2         7     13.5     14.1        Yes   \n4       1018.3       1018.5         7         7     11.1     15.4        Yes   \n\n   RISK_MM  RainTomorrow  \n0      3.6           Yes  \n1      3.6           Yes  \n2     39.8           Yes  \n3      2.8           Yes  \n4      0.0            No  \n\n[5 rows x 24 columns]\n\n  ---------------------------b part\n\n         Date  Location  MinTemp  MaxTemp  Rainfall  Evaporation  Sunshine  \\\n0   11/1/2007  Canberra      8.0     24.3       0.0          3.4       6.3   \n1   11/2/2007  Canberra     14.0     26.9       3.6          4.4       9.7   \n2   11/3/2007  Canberra     13.7     23.4       3.6          5.8       3.3   \n3   11/4/2007  Canberra     13.3     15.5      39.8          7.2       9.1   \n4   11/5/2007  Canberra      7.6     16.1       2.8          5.6      10.6   \n5   11/6/2007  Canberra      6.2     16.9       0.0          5.8       8.2   \n6   11/7/2007  Canberra      6.1     18.2       0.2          4.2       8.4   \n7   11/8/2007  Canberra      8.3     17.0       0.0          5.6       4.6   \n8   11/9/2007  Canberra      8.8     19.5       0.0          4.0       4.1   \n9  11/10/2007  Canberra      8.4     22.8      16.2          5.4       7.7   \n\n  WindGustDir  WindGustSpeed WindDir9am      ...      Humidity3pm  \\\n0          NW           30.0         SW      ...               29   \n1         ENE           39.0          E      ...               36   \n2          NW           85.0          N      ...               69   \n3          NW           54.0        WNW      ...               56   \n4         SSE           50.0        SSE      ...               49   \n5          SE           44.0         SE      ...               57   \n6          SE           43.0         SE      ...               47   \n7           E           41.0         SE      ...               57   \n8           S           48.0          E      ...               48   \n9           E           31.0          S      ...               32   \n\n   Pressure9am  Pressure3pm  Cloud9am  Cloud3pm  Temp9am  Temp3pm  RainToday  \\\n0       1019.7       1015.0         7         7     14.4     23.6         No   \n1       1012.4       1008.4         5         3     17.5     25.7        Yes   \n2       1009.5       1007.2         8         7     15.4     20.2        Yes   \n3       1005.5       1007.0         2         7     13.5     14.1        Yes   \n4       1018.3       1018.5         7         7     11.1     15.4        Yes   \n5       1023.8       1021.7         7         5     10.9     14.8         No   \n6       1024.6       1022.2         4         6     12.4     17.3         No   \n7       1026.2       1024.2         6         7     12.1     15.5         No   \n8       1026.1       1022.7         7         7     14.1     18.9         No   \n9       1024.1       1020.7         7         1     13.3     21.7        Yes   \n\n   RISK_MM  RainTomorrow  \n0      3.6           Yes  \n1      3.6           Yes  \n2     39.8           Yes  \n3      2.8           Yes  \n4      0.0            No  \n5      0.2            No  \n6      0.0            No  \n7      0.0            No  \n8     16.2           Yes  \n9      0.0            No  \n\n[10 rows x 24 columns]\n\n-----------------------------c part\n\n"
     ]
    },
    {
     "name": "stdout",
     "output_type": "stream",
     "text": [
      "the axes is: [RangeIndex(start=0, stop=366, step=1), Index(['Date', 'Location', 'MinTemp', 'MaxTemp', 'Rainfall', 'Evaporation',\n       'Sunshine', 'WindGustDir', 'WindGustSpeed', 'WindDir9am', 'WindDir3pm',\n       'WindSpeed9am', 'WindSpeed3pm', 'Humidity9am', 'Humidity3pm',\n       'Pressure9am', 'Pressure3pm', 'Cloud9am', 'Cloud3pm', 'Temp9am',\n       'Temp3pm', 'RainToday', 'RISK_MM', 'RainTomorrow'],\n      dtype='object')]\nthe transpose is                      0          1          2          3          4    \\\nDate           11/1/2007  11/2/2007  11/3/2007  11/4/2007  11/5/2007   \nLocation        Canberra   Canberra   Canberra   Canberra   Canberra   \nMinTemp                8         14       13.7       13.3        7.6   \nMaxTemp             24.3       26.9       23.4       15.5       16.1   \nRainfall               0        3.6        3.6       39.8        2.8   \nEvaporation          3.4        4.4        5.8        7.2        5.6   \nSunshine             6.3        9.7        3.3        9.1       10.6   \nWindGustDir           NW        ENE         NW         NW        SSE   \nWindGustSpeed         30         39         85         54         50   \nWindDir9am            SW          E          N        WNW        SSE   \nWindDir3pm            NW          W        NNE          W        ESE   \nWindSpeed9am           6          4          6         30         20   \nWindSpeed3pm          20         17          6         24         28   \nHumidity9am           68         80         82         62         68   \nHumidity3pm           29         36         69         56         49   \nPressure9am       1019.7     1012.4     1009.5     1005.5     1018.3   \nPressure3pm         1015     1008.4     1007.2       1007     1018.5   \nCloud9am               7          5          8          2          7   \nCloud3pm               7          3          7          7          7   \nTemp9am             14.4       17.5       15.4       13.5       11.1   \nTemp3pm             23.6       25.7       20.2       14.1       15.4   \nRainToday             No        Yes        Yes        Yes        Yes   \nRISK_MM              3.6        3.6       39.8        2.8          0   \nRainTomorrow         Yes        Yes        Yes        Yes         No   \n\n                     5          6          7          8           9    \\\nDate           11/6/2007  11/7/2007  11/8/2007  11/9/2007  11/10/2007   \nLocation        Canberra   Canberra   Canberra   Canberra    Canberra   \nMinTemp              6.2        6.1        8.3        8.8         8.4   \nMaxTemp             16.9       18.2         17       19.5        22.8   \nRainfall               0        0.2          0          0        16.2   \nEvaporation          5.8        4.2        5.6          4         5.4   \nSunshine             8.2        8.4        4.6        4.1         7.7   \nWindGustDir           SE         SE          E          S           E   \nWindGustSpeed         44         43         41         48          31   \nWindDir9am            SE         SE         SE          E           S   \nWindDir3pm             E        ESE          E        ENE         ESE   \nWindSpeed9am          20         19         11         19           7   \nWindSpeed3pm          24         26         24         17           6   \nHumidity9am           70         63         65         70          82   \nHumidity3pm           57         47         57         48          32   \nPressure9am       1023.8     1024.6     1026.2     1026.1      1024.1   \nPressure3pm       1021.7     1022.2     1024.2     1022.7      1020.7   \nCloud9am               7          4          6          7           7   \nCloud3pm               5          6          7          7           1   \nTemp9am             10.9       12.4       12.1       14.1        13.3   \nTemp3pm             14.8       17.3       15.5       18.9        21.7   \nRainToday             No         No         No         No         Yes   \nRISK_MM              0.2          0          0       16.2           0   \nRainTomorrow          No         No         No        Yes          No   \n\n                  ...             356         357         358         359  \\\nDate              ...      10/22/2008  10/23/2008  10/24/2008  10/25/2008   \nLocation          ...        Canberra    Canberra    Canberra    Canberra   \nMinTemp           ...             3.4         3.2         0.9         3.3   \nMaxTemp           ...              15          18        20.7        25.5   \nRainfall          ...             0.8           0           0           0   \nEvaporation       ...             4.8         7.4         5.4         5.2   \nSunshine          ...            11.7        12.2         8.4        10.8   \nWindGustDir       ...               S         SSE         NNW           N   \nWindGustSpeed     ...              70          48          39          43   \nWindDir9am        ...               S         SSE         SSE           N   \nWindDir3pm        ...               S           S           N         NNW   \nWindSpeed9am      ...              35          26           2           4   \nWindSpeed3pm      ...              37          15          17          19   \nHumidity9am       ...              43          47          71          57   \nHumidity3pm       ...              24          25          29          16   \nPressure9am       ...          1023.4      1026.6      1023.2      1018.8   \nPressure3pm       ...          1023.1      1022.8      1018.4      1014.6   \nCloud9am          ...               1           1           3           0   \nCloud3pm          ...               5           2           8           3   \nTemp9am           ...             8.3         9.1         9.4          12   \nTemp3pm           ...            14.3        16.3        19.1        24.8   \nRainToday         ...              No          No          No          No   \nRISK_MM           ...               0           0           0           0   \nRainTomorrow      ...              No          No          No          No   \n\n                      360         361         362         363         364  \\\nDate           10/26/2008  10/27/2008  10/28/2008  10/29/2008  10/30/2008   \nLocation         Canberra    Canberra    Canberra    Canberra    Canberra   \nMinTemp               7.9           9         7.1        12.5        12.5   \nMaxTemp              26.1        30.7        28.4        19.9        26.9   \nRainfall                0           0           0           0           0   \nEvaporation           6.8         7.6        11.6         8.4           5   \nSunshine              3.5        12.1        12.7         5.3         7.1   \nWindGustDir           NNW         NNW           N         ESE          NW   \nWindGustSpeed          43          76          48          43          46   \nWindDir9am            NaN         SSE         NNW         ENE         SSW   \nWindDir3pm            WNW          NW         NNW         ENE         WNW   \nWindSpeed9am            0           7           2          11           6   \nWindSpeed3pm           19          50          19           9          28   \nHumidity9am            45          38          45          63          69   \nHumidity3pm            20          15          22          47          39   \nPressure9am        1017.6      1016.1        1020        1024        1021   \nPressure3pm        1014.2      1010.8      1016.9      1022.8      1016.2   \nCloud9am                5           1           0           3           6   \nCloud3pm                8           3           1           2           7   \nTemp9am              16.3        20.4        17.2        14.5        15.8   \nTemp3pm              25.9          30        28.2        18.3        25.9   \nRainToday              No          No          No          No          No   \nRISK_MM                 0           0           0           0           0   \nRainTomorrow           No          No          No          No          No   \n\n                      365  \nDate           10/31/2008  \nLocation         Canberra  \nMinTemp              12.3  \nMaxTemp              30.2  \nRainfall                0  \nEvaporation             6  \nSunshine             12.6  \nWindGustDir            NW  \nWindGustSpeed          78  \nWindDir9am             NW  \nWindDir3pm            WNW  \nWindSpeed9am           31  \nWindSpeed3pm           35  \nHumidity9am            43  \nHumidity3pm            13  \nPressure9am        1009.6  \nPressure3pm        1009.2  \nCloud9am                1  \nCloud3pm                1  \nTemp9am              23.8  \nTemp3pm              28.6  \nRainToday              No  \nRISK_MM                 0  \nRainTomorrow           No  \n\n[24 rows x 366 columns]\nthe shape is (366, 24)\nthe Data type is Date              object\nLocation          object\nMinTemp          float64\nMaxTemp          float64\nRainfall         float64\nEvaporation      float64\nSunshine         float64\nWindGustDir       object\nWindGustSpeed    float64\nWindDir9am        object\nWindDir3pm        object\nWindSpeed9am     float64\nWindSpeed3pm       int64\nHumidity9am        int64\nHumidity3pm        int64\nPressure9am      float64\nPressure3pm      float64\nCloud9am           int64\nCloud3pm           int64\nTemp9am          float64\nTemp3pm          float64\nRainToday         object\nRISK_MM          float64\nRainTomorrow      object\ndtype: object\n\n        d part\n\n           Date  Location  MinTemp  MaxTemp  Rainfall  Evaporation  Sunshine  \\\n361  10/27/2008  Canberra      9.0     30.7       0.0          7.6      12.1   \n362  10/28/2008  Canberra      7.1     28.4       0.0         11.6      12.7   \n363  10/29/2008  Canberra     12.5     19.9       0.0          8.4       5.3   \n364  10/30/2008  Canberra     12.5     26.9       0.0          5.0       7.1   \n365  10/31/2008  Canberra     12.3     30.2       0.0          6.0      12.6   \n\n    WindGustDir  WindGustSpeed WindDir9am      ...      Humidity3pm  \\\n361         NNW           76.0        SSE      ...               15   \n362           N           48.0        NNW      ...               22   \n363         ESE           43.0        ENE      ...               47   \n364          NW           46.0        SSW      ...               39   \n365          NW           78.0         NW      ...               13   \n\n     Pressure9am  Pressure3pm  Cloud9am  Cloud3pm  Temp9am  Temp3pm  \\\n361       1016.1       1010.8         1         3     20.4     30.0   \n362       1020.0       1016.9         0         1     17.2     28.2   \n363       1024.0       1022.8         3         2     14.5     18.3   \n364       1021.0       1016.2         6         7     15.8     25.9   \n365       1009.6       1009.2         1         1     23.8     28.6   \n\n     RainToday  RISK_MM  RainTomorrow  \n361         No      0.0            No  \n362         No      0.0            No  \n363         No      0.0            No  \n364         No      0.0            No  \n365         No      0.0            No  \n\n[5 rows x 24 columns]\n\n ---------------------------- e part\n\n"
     ]
    },
    {
     "name": "stdout",
     "output_type": "stream",
     "text": [
      "The sumCanberraCanberraCanberraCanberraCanberraCanberraCanberraCanberraCanberraCanberraCanberraCanberraCanberraCanberraCanberraCanberraCanberraCanberraCanberraCanberraCanberraCanberraCanberraCanberraCanberraCanberraCanberraCanberraCanberraCanberraCanberraCanberraCanberraCanberraCanberraCanberraCanberraCanberraCanberraCanberraCanberraCanberraCanberraCanberraCanberraCanberraCanberraCanberraCanberraCanberraCanberraCanberraCanberraCanberraCanberraCanberraCanberraCanberraCanberraCanberraCanberraCanberraCanberraCanberraCanberraCanberraCanberraCanberraCanberraCanberraCanberraCanberraCanberraCanberraCanberraCanberraCanberraCanberraCanberraCanberraCanberraCanberraCanberraCanberraCanberraCanberraCanberraCanberraCanberraCanberraCanberraCanberraCanberraCanberraCanberraCanberraCanberraCanberraCanberraCanberraCanberraCanberraCanberraCanberraCanberraCanberraCanberraCanberraCanberraCanberraCanberraCanberraCanberraCanberraCanberraCanberraCanberraCanberraCanberraCanberraCanberraCanberraCanberraCanberraCanberraCanberraCanberraCanberraCanberraCanberraCanberraCanberraCanberraCanberraCanberraCanberraCanberraCanberraCanberraCanberraCanberraCanberraCanberraCanberraCanberraCanberraCanberraCanberraCanberraCanberraCanberraCanberraCanberraCanberraCanberraCanberraCanberraCanberraCanberraCanberraCanberraCanberraCanberraCanberraCanberraCanberraCanberraCanberraCanberraCanberraCanberraCanberraCanberraCanberraCanberraCanberraCanberraCanberraCanberraCanberraCanberraCanberraCanberraCanberraCanberraCanberraCanberraCanberraCanberraCanberraCanberraCanberraCanberraCanberraCanberraCanberraCanberraCanberraCanberraCanberraCanberraCanberraCanberraCanberraCanberraCanberraCanberraCanberraCanberraCanberraCanberraCanberraCanberraCanberraCanberraCanberraCanberraCanberraCanberraCanberraCanberraCanberraCanberraCanberraCanberraCanberraCanberraCanberraCanberraCanberraCanberraCanberraCanberraCanberraCanberraCanberraCanberraCanberraCanberraCanberraCanberraCanberraCanberraCanberraCanberraCanberraCanberraCanberraCanberraCanberraCanberraCanberraCanberraCanberraCanberraCanberraCanberraCanberraCanberraCanberraCanberraCanberraCanberraCanberraCanberraCanberraCanberraCanberraCanberraCanberraCanberraCanberraCanberraCanberraCanberraCanberraCanberraCanberraCanberraCanberraCanberraCanberraCanberraCanberraCanberraCanberraCanberraCanberraCanberraCanberraCanberraCanberraCanberraCanberraCanberraCanberraCanberraCanberraCanberraCanberraCanberraCanberraCanberraCanberraCanberraCanberraCanberraCanberraCanberraCanberraCanberraCanberraCanberraCanberraCanberraCanberraCanberraCanberraCanberraCanberraCanberraCanberraCanberraCanberraCanberraCanberraCanberraCanberraCanberraCanberraCanberraCanberraCanberraCanberraCanberraCanberraCanberraCanberraCanberraCanberraCanberraCanberraCanberraCanberraCanberraCanberraCanberraCanberraCanberraCanberraCanberraCanberraCanberraCanberraCanberraCanberraCanberraCanberraCanberraCanberraCanberraCanberraCanberraCanberraCanberraCanberra\nthe describe is count          366\nunique           1\ntop       Canberra\nfreq           366\nName: Location, dtype: object\n\n"
     ]
    }
   ],
   "source": [
    "#ques 2:\n",
    "df = pd.read_csv('data_assig4.csv')\n",
    "print(\"   -----------------------------a part\\n\")\n",
    "head5 = df.head(5)\n",
    "print(head5)\n",
    "print(\"\\n  ---------------------------b part\\n\")\n",
    "head10 = df.head(10)\n",
    "print(head10)\n",
    "print(\"\\n-----------------------------c part\\n\")\n",
    "axd = pd.DataFrame(df)\n",
    "ax = axd.axes\n",
    "print(\"the axes is: \"+str(ax))\n",
    "print(\"the transpose is \"+str(axd.T))\n",
    "print(\"the shape is \"+str(axd.shape))\n",
    "print(\"the Data type is \"+str(axd.dtypes))\n",
    "print(\"\\n        d part\\n\")\n",
    "last5 = df.tail(5)\n",
    "print(last5)\n",
    "print(\"\\n ---------------------------- e part\\n\")\n",
    "print(\"The sum\"+str(df['Location'].sum()))\n",
    "print(\"the describe is \"+str(df['Location'].describe())+\"\\n\")\n"
   ]
  },
  {
   "cell_type": "code",
   "execution_count": null,
   "metadata": {},
   "outputs": [],
   "source": []
  }
 ],
 "metadata": {
  "kernelspec": {
   "display_name": "Python 2",
   "language": "python",
   "name": "python2"
  },
  "language_info": {
   "codemirror_mode": {
    "name": "ipython",
    "version": 2
   },
   "file_extension": ".py",
   "mimetype": "text/x-python",
   "name": "python",
   "nbconvert_exporter": "python",
   "pygments_lexer": "ipython2",
   "version": "2.7.6"
  }
 },
 "nbformat": 4,
 "nbformat_minor": 0
}
