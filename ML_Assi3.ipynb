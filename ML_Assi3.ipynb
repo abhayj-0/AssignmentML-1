{
 "cells": [
  {
   "cell_type": "code",
   "execution_count": 1,
   "metadata": {
    "collapsed": true
   },
   "outputs": [
    {
     "name": "stdout",
     "output_type": "stream",
     "text": [
      "0.0303030303030303\n"
     ]
    }
   ],
   "source": [
    "a=11\n",
    "b=6\n",
    "t=36\n",
    "pa=a/t\n",
    "pb=b/t\n",
    "pab=2/t\n",
    "pba=(pab*pb)/pa\n",
    "print(pba)"
   ]
  },
  {
   "cell_type": "code",
   "execution_count": 2,
   "metadata": {},
   "outputs": [
    {
     "name": "stdout",
     "output_type": "stream",
     "text": [
      "0.48611111111111116\n"
     ]
    }
   ],
   "source": [
    "w1=4\n",
    "b1=6\n",
    "w2=4\n",
    "b2=3\n",
    "t1=0.5\n",
    "t2=0.5\n",
    "bblack1=b1/(w1+b1)\n",
    "bblack2=b2/(w2+b2)\n",
    "total=(t1*t2)/((t1*bblack1)+(t2*bblack2))\n",
    "print(total)"
   ]
  },
  {
   "cell_type": "code",
   "execution_count": null,
   "metadata": {},
   "outputs": [],
   "source": [
    "diepro=1\n",
    "tdiepro=6\n",
    "dice=diepro/tdiepro\n",
    "truth=3\n",
    "ptruth=2/truth\n",
    "total=dice*ptruth\n",
    "print(total)"
   ]
  },
  {
   "cell_type": "code",
   "execution_count": null,
   "metadata": {},
   "outputs": [],
   "source": []
  }
 ],
 "metadata": {
  "kernelspec": {
   "display_name": "Python 2",
   "language": "python",
   "name": "python2"
  },
  "language_info": {
   "codemirror_mode": {
    "name": "ipython",
    "version": 2
   },
   "file_extension": ".py",
   "mimetype": "text/x-python",
   "name": "python",
   "nbconvert_exporter": "python",
   "pygments_lexer": "ipython2",
   "version": "2.7.6"
  }
 },
 "nbformat": 4,
 "nbformat_minor": 0
}
